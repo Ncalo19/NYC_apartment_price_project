{
 "cells": [
  {
   "cell_type": "code",
   "execution_count": 16,
   "metadata": {},
   "outputs": [],
   "source": [
    "import pandas as pd\n",
    "from sklearn.preprocessing import LabelEncoder\n",
    "le = LabelEncoder()\n",
    "df = pd.read_csv(r'C:\\Users\\nCalo\\Documents\\Automifai\\Research\\Coding_Lessons\\Git\\NYC_apartment_price_project\\Data\\2_cleaned_NYC_property_sales.csv')"
   ]
  },
  {
   "cell_type": "code",
   "execution_count": 17,
   "metadata": {},
   "outputs": [
    {
     "data": {
      "text/html": [
       "<div>\n",
       "<style scoped>\n",
       "    .dataframe tbody tr th:only-of-type {\n",
       "        vertical-align: middle;\n",
       "    }\n",
       "\n",
       "    .dataframe tbody tr th {\n",
       "        vertical-align: top;\n",
       "    }\n",
       "\n",
       "    .dataframe thead th {\n",
       "        text-align: right;\n",
       "    }\n",
       "</style>\n",
       "<table border=\"1\" class=\"dataframe\">\n",
       "  <thead>\n",
       "    <tr style=\"text-align: right;\">\n",
       "      <th></th>\n",
       "      <th>#</th>\n",
       "      <th>BOROUGH</th>\n",
       "      <th>BLOCK</th>\n",
       "      <th>NEIGHBORHOOD</th>\n",
       "      <th>BUILDING CLASS CATEGORY</th>\n",
       "      <th>RESIDENTIAL UNITS</th>\n",
       "      <th>COMMERCIAL UNITS</th>\n",
       "      <th>TOTAL UNITS</th>\n",
       "      <th>LAND SQUARE FEET</th>\n",
       "      <th>GROSS SQUARE FEET</th>\n",
       "      <th>YEAR BUILT</th>\n",
       "      <th>BUILDING CLASS AT TIME OF SALE</th>\n",
       "      <th>TAX CLASS AT TIME OF SALE</th>\n",
       "      <th>SALE PRICE</th>\n",
       "    </tr>\n",
       "  </thead>\n",
       "  <tbody>\n",
       "    <tr>\n",
       "      <th>0</th>\n",
       "      <td>248</td>\n",
       "      <td>1</td>\n",
       "      <td>231</td>\n",
       "      <td>SOHO</td>\n",
       "      <td>22 STORE BUILDINGS</td>\n",
       "      <td>0</td>\n",
       "      <td>1</td>\n",
       "      <td>1</td>\n",
       "      <td>907</td>\n",
       "      <td>1748</td>\n",
       "      <td>1910</td>\n",
       "      <td>K2</td>\n",
       "      <td>4</td>\n",
       "      <td>5400000</td>\n",
       "    </tr>\n",
       "    <tr>\n",
       "      <th>1</th>\n",
       "      <td>266</td>\n",
       "      <td>4</td>\n",
       "      <td>1961</td>\n",
       "      <td>CORONA</td>\n",
       "      <td>41 TAX CLASS 4 - OTHER</td>\n",
       "      <td>0</td>\n",
       "      <td>0</td>\n",
       "      <td>0</td>\n",
       "      <td>926</td>\n",
       "      <td>384</td>\n",
       "      <td>0</td>\n",
       "      <td>Z9</td>\n",
       "      <td>4</td>\n",
       "      <td>113000</td>\n",
       "    </tr>\n",
       "    <tr>\n",
       "      <th>2</th>\n",
       "      <td>365</td>\n",
       "      <td>4</td>\n",
       "      <td>9803</td>\n",
       "      <td>JAMAICA</td>\n",
       "      <td>02 TWO FAMILY DWELLINGS</td>\n",
       "      <td>2</td>\n",
       "      <td>0</td>\n",
       "      <td>2</td>\n",
       "      <td>1005</td>\n",
       "      <td>2424</td>\n",
       "      <td>2014</td>\n",
       "      <td>B1</td>\n",
       "      <td>1</td>\n",
       "      <td>977520</td>\n",
       "    </tr>\n",
       "    <tr>\n",
       "      <th>3</th>\n",
       "      <td>426</td>\n",
       "      <td>5</td>\n",
       "      <td>1036</td>\n",
       "      <td>PORT RICHMOND</td>\n",
       "      <td>14 RENTALS - 4-10 UNIT</td>\n",
       "      <td>4</td>\n",
       "      <td>1</td>\n",
       "      <td>5</td>\n",
       "      <td>1050</td>\n",
       "      <td>2768</td>\n",
       "      <td>1931</td>\n",
       "      <td>S4</td>\n",
       "      <td>2</td>\n",
       "      <td>195000</td>\n",
       "    </tr>\n",
       "    <tr>\n",
       "      <th>4</th>\n",
       "      <td>551</td>\n",
       "      <td>4</td>\n",
       "      <td>9334</td>\n",
       "      <td>RICHMOND HILL</td>\n",
       "      <td>22 STORE BUILDINGS</td>\n",
       "      <td>0</td>\n",
       "      <td>2</td>\n",
       "      <td>2</td>\n",
       "      <td>1140</td>\n",
       "      <td>2280</td>\n",
       "      <td>1931</td>\n",
       "      <td>K4</td>\n",
       "      <td>4</td>\n",
       "      <td>600000</td>\n",
       "    </tr>\n",
       "  </tbody>\n",
       "</table>\n",
       "</div>"
      ],
      "text/plain": [
       "     #  BOROUGH  BLOCK   NEIGHBORHOOD  \\\n",
       "0  248        1    231           SOHO   \n",
       "1  266        4   1961         CORONA   \n",
       "2  365        4   9803        JAMAICA   \n",
       "3  426        5   1036  PORT RICHMOND   \n",
       "4  551        4   9334  RICHMOND HILL   \n",
       "\n",
       "                       BUILDING CLASS CATEGORY  RESIDENTIAL UNITS  \\\n",
       "0  22 STORE BUILDINGS                                           0   \n",
       "1  41 TAX CLASS 4 - OTHER                                       0   \n",
       "2  02 TWO FAMILY DWELLINGS                                      2   \n",
       "3  14 RENTALS - 4-10 UNIT                                       4   \n",
       "4  22 STORE BUILDINGS                                           0   \n",
       "\n",
       "   COMMERCIAL UNITS  TOTAL UNITS  LAND SQUARE FEET  GROSS SQUARE FEET  \\\n",
       "0                 1            1               907               1748   \n",
       "1                 0            0               926                384   \n",
       "2                 0            2              1005               2424   \n",
       "3                 1            5              1050               2768   \n",
       "4                 2            2              1140               2280   \n",
       "\n",
       "   YEAR BUILT BUILDING CLASS AT TIME OF SALE  TAX CLASS AT TIME OF SALE  \\\n",
       "0        1910                             K2                          4   \n",
       "1           0                             Z9                          4   \n",
       "2        2014                             B1                          1   \n",
       "3        1931                             S4                          2   \n",
       "4        1931                             K4                          4   \n",
       "\n",
       "   SALE PRICE  \n",
       "0     5400000  \n",
       "1      113000  \n",
       "2      977520  \n",
       "3      195000  \n",
       "4      600000  "
      ]
     },
     "execution_count": 17,
     "metadata": {},
     "output_type": "execute_result"
    }
   ],
   "source": [
    "df.head(5)"
   ]
  },
  {
   "cell_type": "code",
   "execution_count": null,
   "metadata": {},
   "outputs": [],
   "source": [
    "df3 = pd.DataFrame(df, columns)"
   ]
  },
  {
   "cell_type": "code",
   "execution_count": 12,
   "metadata": {},
   "outputs": [],
   "source": [
    "df2 = pd.get_dummies(df, columns=['NEIGHBORHOOD'])"
   ]
  },
  {
   "cell_type": "code",
   "execution_count": 15,
   "metadata": {},
   "outputs": [
    {
     "name": "stdout",
     "output_type": "stream",
     "text": [
      "['NEIGHBORHOOD_AIRPORT LA GUARDIA', 'NEIGHBORHOOD_ALPHABET CITY', 'NEIGHBORHOOD_ANNADALE', 'NEIGHBORHOOD_ARDEN HEIGHTS', 'NEIGHBORHOOD_ARROCHAR', 'NEIGHBORHOOD_ARROCHAR-SHORE ACRES', 'NEIGHBORHOOD_ARVERNE', 'NEIGHBORHOOD_ASTORIA', 'NEIGHBORHOOD_BATH BEACH', 'NEIGHBORHOOD_BATHGATE', 'NEIGHBORHOOD_BAY RIDGE', 'NEIGHBORHOOD_BAYCHESTER', 'NEIGHBORHOOD_BAYSIDE', 'NEIGHBORHOOD_BEDFORD PARK/NORWOOD', 'NEIGHBORHOOD_BEDFORD STUYVESANT', 'NEIGHBORHOOD_BEECHHURST', 'NEIGHBORHOOD_BELLE HARBOR', 'NEIGHBORHOOD_BELLEROSE', 'NEIGHBORHOOD_BELMONT', 'NEIGHBORHOOD_BENSONHURST', 'NEIGHBORHOOD_BERGEN BEACH', 'NEIGHBORHOOD_BOERUM HILL', 'NEIGHBORHOOD_BOROUGH PARK', 'NEIGHBORHOOD_BRIARWOOD', 'NEIGHBORHOOD_BRIGHTON BEACH', 'NEIGHBORHOOD_BROAD CHANNEL', 'NEIGHBORHOOD_BRONX PARK', 'NEIGHBORHOOD_BRONXDALE', 'NEIGHBORHOOD_BROOKLYN HEIGHTS', 'NEIGHBORHOOD_BROWNSVILLE', 'NEIGHBORHOOD_BULLS HEAD', 'NEIGHBORHOOD_BUSH TERMINAL', 'NEIGHBORHOOD_BUSHWICK', 'NEIGHBORHOOD_CAMBRIA HEIGHTS', 'NEIGHBORHOOD_CANARSIE', 'NEIGHBORHOOD_CARROLL GARDENS', 'NEIGHBORHOOD_CASTLE HILL/UNIONPORT', 'NEIGHBORHOOD_CASTLETON CORNERS', 'NEIGHBORHOOD_CHELSEA', 'NEIGHBORHOOD_CHINATOWN', 'NEIGHBORHOOD_CITY ISLAND', 'NEIGHBORHOOD_CITY ISLAND-PELHAM STRIP', 'NEIGHBORHOOD_CIVIC CENTER', 'NEIGHBORHOOD_CLINTON', 'NEIGHBORHOOD_CLINTON HILL', 'NEIGHBORHOOD_CLOVE LAKES', 'NEIGHBORHOOD_CO-OP CITY', 'NEIGHBORHOOD_COBBLE HILL', 'NEIGHBORHOOD_COBBLE HILL-WEST', 'NEIGHBORHOOD_COLLEGE POINT', 'NEIGHBORHOOD_CONCORD', 'NEIGHBORHOOD_CONCORD-FOX HILLS', 'NEIGHBORHOOD_CONEY ISLAND', 'NEIGHBORHOOD_CORONA', 'NEIGHBORHOOD_COUNTRY CLUB', 'NEIGHBORHOOD_CROTONA PARK', 'NEIGHBORHOOD_CROWN HEIGHTS', 'NEIGHBORHOOD_CYPRESS HILLS', 'NEIGHBORHOOD_DONGAN HILLS', 'NEIGHBORHOOD_DONGAN HILLS-COLONY', 'NEIGHBORHOOD_DONGAN HILLS-OLD TOWN', 'NEIGHBORHOOD_DOUGLASTON', 'NEIGHBORHOOD_DOWNTOWN-FULTON FERRY', 'NEIGHBORHOOD_DOWNTOWN-FULTON MALL', 'NEIGHBORHOOD_DOWNTOWN-METROTECH', 'NEIGHBORHOOD_DYKER HEIGHTS', 'NEIGHBORHOOD_EAST ELMHURST', 'NEIGHBORHOOD_EAST NEW YORK', 'NEIGHBORHOOD_EAST RIVER', 'NEIGHBORHOOD_EAST TREMONT', 'NEIGHBORHOOD_EAST VILLAGE', 'NEIGHBORHOOD_ELMHURST', 'NEIGHBORHOOD_ELTINGVILLE', 'NEIGHBORHOOD_EMERSON HILL', 'NEIGHBORHOOD_FAR ROCKAWAY', 'NEIGHBORHOOD_FASHION', 'NEIGHBORHOOD_FIELDSTON', 'NEIGHBORHOOD_FINANCIAL', 'NEIGHBORHOOD_FLATBUSH-CENTRAL', 'NEIGHBORHOOD_FLATBUSH-EAST', 'NEIGHBORHOOD_FLATBUSH-LEFFERTS GARDEN', 'NEIGHBORHOOD_FLATBUSH-NORTH', 'NEIGHBORHOOD_FLATIRON', 'NEIGHBORHOOD_FLATLANDS', 'NEIGHBORHOOD_FLORAL PARK', 'NEIGHBORHOOD_FLUSHING-NORTH', 'NEIGHBORHOOD_FLUSHING-SOUTH', 'NEIGHBORHOOD_FORDHAM', 'NEIGHBORHOOD_FOREST HILLS', 'NEIGHBORHOOD_FORT GREENE', 'NEIGHBORHOOD_FRESH KILLS', 'NEIGHBORHOOD_FRESH MEADOWS', 'NEIGHBORHOOD_GERRITSEN BEACH', 'NEIGHBORHOOD_GLEN OAKS', 'NEIGHBORHOOD_GLENDALE', 'NEIGHBORHOOD_GOWANUS', 'NEIGHBORHOOD_GRAMERCY', 'NEIGHBORHOOD_GRANT CITY', 'NEIGHBORHOOD_GRASMERE', 'NEIGHBORHOOD_GRAVESEND', 'NEIGHBORHOOD_GREAT KILLS', 'NEIGHBORHOOD_GREAT KILLS-BAY TERRACE', 'NEIGHBORHOOD_GREENPOINT', 'NEIGHBORHOOD_GREENWICH VILLAGE-CENTRAL', 'NEIGHBORHOOD_GREENWICH VILLAGE-WEST', 'NEIGHBORHOOD_GRYMES HILL', 'NEIGHBORHOOD_HAMMELS', 'NEIGHBORHOOD_HARLEM-CENTRAL', 'NEIGHBORHOOD_HARLEM-EAST', 'NEIGHBORHOOD_HARLEM-UPPER', 'NEIGHBORHOOD_HARLEM-WEST', 'NEIGHBORHOOD_HIGHBRIDGE/MORRIS HEIGHTS', 'NEIGHBORHOOD_HILLCREST', 'NEIGHBORHOOD_HOLLIS', 'NEIGHBORHOOD_HOLLIS HILLS', 'NEIGHBORHOOD_HOLLISWOOD', 'NEIGHBORHOOD_HOWARD BEACH', 'NEIGHBORHOOD_HUGUENOT', 'NEIGHBORHOOD_HUNTS POINT', 'NEIGHBORHOOD_INWOOD', 'NEIGHBORHOOD_JACKSON HEIGHTS', 'NEIGHBORHOOD_JAMAICA', 'NEIGHBORHOOD_JAMAICA BAY', 'NEIGHBORHOOD_JAMAICA ESTATES', 'NEIGHBORHOOD_JAMAICA HILLS', 'NEIGHBORHOOD_JAVITS CENTER', 'NEIGHBORHOOD_KENSINGTON', 'NEIGHBORHOOD_KEW GARDENS', 'NEIGHBORHOOD_KINGSBRIDGE HTS/UNIV HTS', 'NEIGHBORHOOD_KINGSBRIDGE/JEROME PARK', 'NEIGHBORHOOD_KIPS BAY', 'NEIGHBORHOOD_LAURELTON', 'NEIGHBORHOOD_LITTLE ITALY', 'NEIGHBORHOOD_LITTLE NECK', 'NEIGHBORHOOD_LIVINGSTON', 'NEIGHBORHOOD_LONG ISLAND CITY', 'NEIGHBORHOOD_LOWER EAST SIDE', 'NEIGHBORHOOD_MADISON', 'NEIGHBORHOOD_MANHATTAN BEACH', 'NEIGHBORHOOD_MANHATTAN VALLEY', 'NEIGHBORHOOD_MANOR HEIGHTS', 'NEIGHBORHOOD_MARINE PARK', 'NEIGHBORHOOD_MARINERS HARBOR', 'NEIGHBORHOOD_MASPETH', 'NEIGHBORHOOD_MELROSE/CONCOURSE', 'NEIGHBORHOOD_MIDDLE VILLAGE', 'NEIGHBORHOOD_MIDLAND BEACH', 'NEIGHBORHOOD_MIDTOWN CBD', 'NEIGHBORHOOD_MIDTOWN EAST', 'NEIGHBORHOOD_MIDTOWN WEST', 'NEIGHBORHOOD_MIDWOOD', 'NEIGHBORHOOD_MILL BASIN', 'NEIGHBORHOOD_MORRIS PARK/VAN NEST', 'NEIGHBORHOOD_MORRISANIA/LONGWOOD', 'NEIGHBORHOOD_MOTT HAVEN/PORT MORRIS', 'NEIGHBORHOOD_MOUNT HOPE/MOUNT EDEN', 'NEIGHBORHOOD_MURRAY HILL', 'NEIGHBORHOOD_NAVY YARD', 'NEIGHBORHOOD_NEPONSIT', 'NEIGHBORHOOD_NEW BRIGHTON', 'NEIGHBORHOOD_NEW BRIGHTON-ST. GEORGE', 'NEIGHBORHOOD_NEW DORP', 'NEIGHBORHOOD_NEW DORP-BEACH', 'NEIGHBORHOOD_NEW DORP-HEIGHTS', 'NEIGHBORHOOD_NEW SPRINGVILLE', 'NEIGHBORHOOD_OAKLAND GARDENS', 'NEIGHBORHOOD_OAKWOOD', 'NEIGHBORHOOD_OAKWOOD-BEACH', 'NEIGHBORHOOD_OCEAN HILL', 'NEIGHBORHOOD_OCEAN PARKWAY-NORTH', 'NEIGHBORHOOD_OCEAN PARKWAY-SOUTH', 'NEIGHBORHOOD_OLD MILL BASIN', 'NEIGHBORHOOD_OZONE PARK', 'NEIGHBORHOOD_PARK SLOPE', 'NEIGHBORHOOD_PARK SLOPE SOUTH', 'NEIGHBORHOOD_PARKCHESTER', 'NEIGHBORHOOD_PELHAM GARDENS', 'NEIGHBORHOOD_PELHAM PARKWAY NORTH', 'NEIGHBORHOOD_PELHAM PARKWAY SOUTH', 'NEIGHBORHOOD_PLEASANT PLAINS', 'NEIGHBORHOOD_PORT IVORY', 'NEIGHBORHOOD_PORT RICHMOND', 'NEIGHBORHOOD_PRINCES BAY', 'NEIGHBORHOOD_PROSPECT HEIGHTS', 'NEIGHBORHOOD_QUEENS VILLAGE', 'NEIGHBORHOOD_RED HOOK', 'NEIGHBORHOOD_REGO PARK', 'NEIGHBORHOOD_RICHMOND HILL', 'NEIGHBORHOOD_RICHMONDTOWN', 'NEIGHBORHOOD_RICHMONDTOWN-LIGHTHS HILL', 'NEIGHBORHOOD_RIDGEWOOD', 'NEIGHBORHOOD_RIVERDALE', 'NEIGHBORHOOD_ROCKAWAY PARK', 'NEIGHBORHOOD_ROOSEVELT ISLAND', 'NEIGHBORHOOD_ROSEBANK', 'NEIGHBORHOOD_ROSEDALE', 'NEIGHBORHOOD_ROSSVILLE', 'NEIGHBORHOOD_ROSSVILLE-CHARLESTON', 'NEIGHBORHOOD_ROSSVILLE-PORT MOBIL', 'NEIGHBORHOOD_ROSSVILLE-RICHMOND VALLEY', 'NEIGHBORHOOD_SCHUYLERVILLE/PELHAM BAY', 'NEIGHBORHOOD_SEAGATE', 'NEIGHBORHOOD_SHEEPSHEAD BAY', 'NEIGHBORHOOD_SILVER LAKE', 'NEIGHBORHOOD_SO. JAMAICA-BAISLEY PARK', 'NEIGHBORHOOD_SOHO', 'NEIGHBORHOOD_SOUNDVIEW', 'NEIGHBORHOOD_SOUTH BEACH', 'NEIGHBORHOOD_SOUTH JAMAICA', 'NEIGHBORHOOD_SOUTH OZONE PARK', 'NEIGHBORHOOD_SOUTHBRIDGE', 'NEIGHBORHOOD_SPRING CREEK', 'NEIGHBORHOOD_SPRINGFIELD GARDENS', 'NEIGHBORHOOD_ST. ALBANS', 'NEIGHBORHOOD_STAPLETON', 'NEIGHBORHOOD_STAPLETON-CLIFTON', 'NEIGHBORHOOD_SUNNYSIDE', 'NEIGHBORHOOD_SUNSET PARK', 'NEIGHBORHOOD_THROGS NECK', 'NEIGHBORHOOD_TODT HILL', 'NEIGHBORHOOD_TOMPKINSVILLE', 'NEIGHBORHOOD_TOTTENVILLE', 'NEIGHBORHOOD_TRAVIS', 'NEIGHBORHOOD_TRIBECA', 'NEIGHBORHOOD_UPPER EAST SIDE (59-79)', 'NEIGHBORHOOD_UPPER EAST SIDE (79-96)', 'NEIGHBORHOOD_UPPER EAST SIDE (96-110)', 'NEIGHBORHOOD_UPPER WEST SIDE (59-79)', 'NEIGHBORHOOD_UPPER WEST SIDE (79-96)', 'NEIGHBORHOOD_UPPER WEST SIDE (96-116)', 'NEIGHBORHOOD_WAKEFIELD', 'NEIGHBORHOOD_WASHINGTON HEIGHTS LOWER', 'NEIGHBORHOOD_WASHINGTON HEIGHTS UPPER', 'NEIGHBORHOOD_WEST NEW BRIGHTON', 'NEIGHBORHOOD_WESTCHESTER', 'NEIGHBORHOOD_WESTERLEIGH', 'NEIGHBORHOOD_WHITESTONE', 'NEIGHBORHOOD_WILLIAMSBRIDGE', 'NEIGHBORHOOD_WILLIAMSBURG-CENTRAL', 'NEIGHBORHOOD_WILLIAMSBURG-EAST', 'NEIGHBORHOOD_WILLIAMSBURG-NORTH', 'NEIGHBORHOOD_WILLIAMSBURG-SOUTH', 'NEIGHBORHOOD_WILLOWBROOK', 'NEIGHBORHOOD_WINDSOR TERRACE', 'NEIGHBORHOOD_WOODHAVEN', 'NEIGHBORHOOD_WOODLAWN', 'NEIGHBORHOOD_WOODROW', 'NEIGHBORHOOD_WOODSIDE', 'NEIGHBORHOOD_WYCKOFF HEIGHTS']\n"
     ]
    },
    {
     "ename": "NameError",
     "evalue": "name 'length' is not defined",
     "output_type": "error",
     "traceback": [
      "\u001b[1;31m---------------------------------------------------------------------------\u001b[0m",
      "\u001b[1;31mNameError\u001b[0m                                 Traceback (most recent call last)",
      "\u001b[1;32m<ipython-input-15-b1c8480b056a>\u001b[0m in \u001b[0;36m<module>\u001b[1;34m\u001b[0m\n\u001b[0;32m      1\u001b[0m \u001b[0mdf2_cols\u001b[0m \u001b[1;33m=\u001b[0m \u001b[1;33m[\u001b[0m\u001b[0mcol\u001b[0m \u001b[1;32mfor\u001b[0m \u001b[0mcol\u001b[0m \u001b[1;32min\u001b[0m \u001b[0mdf2\u001b[0m\u001b[1;33m.\u001b[0m\u001b[0mcolumns\u001b[0m \u001b[1;32mif\u001b[0m \u001b[1;34m'NEIGHBORHOOD'\u001b[0m \u001b[1;32min\u001b[0m \u001b[0mcol\u001b[0m\u001b[1;33m]\u001b[0m\u001b[1;33m\u001b[0m\u001b[1;33m\u001b[0m\u001b[0m\n\u001b[0;32m      2\u001b[0m \u001b[0mprint\u001b[0m\u001b[1;33m(\u001b[0m\u001b[0mdf2_cols\u001b[0m\u001b[1;33m)\u001b[0m\u001b[1;33m\u001b[0m\u001b[1;33m\u001b[0m\u001b[0m\n\u001b[1;32m----> 3\u001b[1;33m \u001b[0mdf2_cols\u001b[0m\u001b[1;33m(\u001b[0m\u001b[0mlength\u001b[0m\u001b[1;33m)\u001b[0m\u001b[1;33m\u001b[0m\u001b[1;33m\u001b[0m\u001b[0m\n\u001b[0m",
      "\u001b[1;31mNameError\u001b[0m: name 'length' is not defined"
     ]
    }
   ],
   "source": [
    "df2_cols = [col for col in df2.columns if 'NEIGHBORHOOD' in col]\n",
    "print(df2_cols)"
   ]
  },
  {
   "cell_type": "code",
   "execution_count": null,
   "metadata": {},
   "outputs": [],
   "source": []
  }
 ],
 "metadata": {
  "kernelspec": {
   "display_name": "Python 3",
   "language": "python",
   "name": "python3"
  },
  "language_info": {
   "codemirror_mode": {
    "name": "ipython",
    "version": 3
   },
   "file_extension": ".py",
   "mimetype": "text/x-python",
   "name": "python",
   "nbconvert_exporter": "python",
   "pygments_lexer": "ipython3",
   "version": "3.7.4"
  }
 },
 "nbformat": 4,
 "nbformat_minor": 2
}
